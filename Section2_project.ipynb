{
  "nbformat": 4,
  "nbformat_minor": 0,
  "metadata": {
    "colab": {
      "name": "Section2_project",
      "provenance": [],
      "toc_visible": true
    },
    "kernelspec": {
      "name": "python3",
      "display_name": "Python 3"
    },
    "language_info": {
      "name": "python"
    }
  },
  "cells": [
    {
      "cell_type": "markdown",
      "source": [
        "# 1. 데이터 선정 이유 및 문제 정의\n",
        "---\n",
        "`문제` \n",
        "<br>온라인 교육에 적응하지 못하는 학생들이 있음 \n",
        "\n",
        "-> 온라인 교육은 점점 확대되는 추세이기 때문에 학생의 적응을 도와야 함\n",
        "\n",
        "<br>`목표` \n",
        "<br>1. 온라인 교육 적응도 예측 2. 온라인 교육 적응과 관련된 특성 파악\n",
        "\n",
        "<br>`질문` \n",
        "<br>어떤 조건을 가진 학생들이 온라인 교육에 취약한 경향을 보일까?\n",
        "\n",
        "(온라인 교육에 적응이 어려울 것으로 예측되는 학생들에게 필요한 지원을 해준다면 온라인 교육의 효용성을 높일 수 있지 않을까?)"
      ],
      "metadata": {
        "id": "Wg5lo1jQcDpS"
      }
    },
    {
      "cell_type": "markdown",
      "source": [
        "# 2. 데이터 전처리, EDA, 시각화\n",
        "---\n",
        "\n"
      ],
      "metadata": {
        "id": "KpASmYnaccre"
      }
    },
    {
      "cell_type": "code",
      "source": [
        "import sys\n",
        "import xgboost\n",
        "import warnings\n",
        "\n",
        "if \"google.colab\" in sys.modules:\n",
        "    !pip install category_encoders==2.*\n",
        "    !pip install eli5\n",
        "    !pip install pdpbox\n",
        "\n",
        "warnings.filterwarnings(\"ignore\")"
      ],
      "metadata": {
        "colab": {
          "base_uri": "https://localhost:8080/",
          "height": 1000
        },
        "id": "gKmuuLKLrZkJ",
        "outputId": "2fb17dc7-00be-433f-a9a8-9f3e86df0c54"
      },
      "execution_count": null,
      "outputs": [
        {
          "output_type": "stream",
          "name": "stdout",
          "text": [
            "Looking in indexes: https://pypi.org/simple, https://us-python.pkg.dev/colab-wheels/public/simple/\n",
            "Collecting category_encoders==2.*\n",
            "  Downloading category_encoders-2.5.0-py2.py3-none-any.whl (69 kB)\n",
            "\u001b[K     |████████████████████████████████| 69 kB 3.3 MB/s \n",
            "\u001b[?25hRequirement already satisfied: patsy>=0.5.1 in /usr/local/lib/python3.7/dist-packages (from category_encoders==2.*) (0.5.2)\n",
            "Requirement already satisfied: pandas>=1.0.5 in /usr/local/lib/python3.7/dist-packages (from category_encoders==2.*) (1.3.5)\n",
            "Requirement already satisfied: scikit-learn>=0.20.0 in /usr/local/lib/python3.7/dist-packages (from category_encoders==2.*) (1.0.2)\n",
            "Requirement already satisfied: numpy>=1.14.0 in /usr/local/lib/python3.7/dist-packages (from category_encoders==2.*) (1.21.6)\n",
            "Requirement already satisfied: statsmodels>=0.9.0 in /usr/local/lib/python3.7/dist-packages (from category_encoders==2.*) (0.10.2)\n",
            "Requirement already satisfied: scipy>=1.0.0 in /usr/local/lib/python3.7/dist-packages (from category_encoders==2.*) (1.7.3)\n",
            "Requirement already satisfied: python-dateutil>=2.7.3 in /usr/local/lib/python3.7/dist-packages (from pandas>=1.0.5->category_encoders==2.*) (2.8.2)\n",
            "Requirement already satisfied: pytz>=2017.3 in /usr/local/lib/python3.7/dist-packages (from pandas>=1.0.5->category_encoders==2.*) (2022.1)\n",
            "Requirement already satisfied: six in /usr/local/lib/python3.7/dist-packages (from patsy>=0.5.1->category_encoders==2.*) (1.15.0)\n",
            "Requirement already satisfied: threadpoolctl>=2.0.0 in /usr/local/lib/python3.7/dist-packages (from scikit-learn>=0.20.0->category_encoders==2.*) (3.1.0)\n",
            "Requirement already satisfied: joblib>=0.11 in /usr/local/lib/python3.7/dist-packages (from scikit-learn>=0.20.0->category_encoders==2.*) (1.1.0)\n",
            "Installing collected packages: category-encoders\n",
            "Successfully installed category-encoders-2.5.0\n",
            "Looking in indexes: https://pypi.org/simple, https://us-python.pkg.dev/colab-wheels/public/simple/\n",
            "Collecting eli5\n",
            "  Downloading eli5-0.13.0.tar.gz (216 kB)\n",
            "\u001b[K     |████████████████████████████████| 216 kB 5.5 MB/s \n",
            "\u001b[?25hRequirement already satisfied: attrs>17.1.0 in /usr/local/lib/python3.7/dist-packages (from eli5) (21.4.0)\n",
            "Collecting jinja2>=3.0.0\n",
            "  Downloading Jinja2-3.1.2-py3-none-any.whl (133 kB)\n",
            "\u001b[K     |████████████████████████████████| 133 kB 54.9 MB/s \n",
            "\u001b[?25hRequirement already satisfied: numpy>=1.9.0 in /usr/local/lib/python3.7/dist-packages (from eli5) (1.21.6)\n",
            "Requirement already satisfied: scipy in /usr/local/lib/python3.7/dist-packages (from eli5) (1.7.3)\n",
            "Requirement already satisfied: six in /usr/local/lib/python3.7/dist-packages (from eli5) (1.15.0)\n",
            "Requirement already satisfied: scikit-learn>=0.20 in /usr/local/lib/python3.7/dist-packages (from eli5) (1.0.2)\n",
            "Requirement already satisfied: graphviz in /usr/local/lib/python3.7/dist-packages (from eli5) (0.10.1)\n",
            "Requirement already satisfied: tabulate>=0.7.7 in /usr/local/lib/python3.7/dist-packages (from eli5) (0.8.10)\n",
            "Requirement already satisfied: MarkupSafe>=2.0 in /usr/local/lib/python3.7/dist-packages (from jinja2>=3.0.0->eli5) (2.0.1)\n",
            "Requirement already satisfied: joblib>=0.11 in /usr/local/lib/python3.7/dist-packages (from scikit-learn>=0.20->eli5) (1.1.0)\n",
            "Requirement already satisfied: threadpoolctl>=2.0.0 in /usr/local/lib/python3.7/dist-packages (from scikit-learn>=0.20->eli5) (3.1.0)\n",
            "Building wheels for collected packages: eli5\n",
            "  Building wheel for eli5 (setup.py) ... \u001b[?25l\u001b[?25hdone\n",
            "  Created wheel for eli5: filename=eli5-0.13.0-py2.py3-none-any.whl size=107748 sha256=1f68f142ed41cdebe3dcec341222e9379b1f1262116f0facf4a6f7b236199a20\n",
            "  Stored in directory: /root/.cache/pip/wheels/cc/3c/96/3ead31a8e6c20fc0f1a707fde2e05d49a80b1b4b30096573be\n",
            "Successfully built eli5\n",
            "Installing collected packages: jinja2, eli5\n",
            "  Attempting uninstall: jinja2\n",
            "    Found existing installation: Jinja2 2.11.3\n",
            "    Uninstalling Jinja2-2.11.3:\n",
            "      Successfully uninstalled Jinja2-2.11.3\n",
            "\u001b[31mERROR: pip's dependency resolver does not currently take into account all the packages that are installed. This behaviour is the source of the following dependency conflicts.\n",
            "flask 1.1.4 requires Jinja2<3.0,>=2.10.1, but you have jinja2 3.1.2 which is incompatible.\n",
            "datascience 0.10.6 requires folium==0.2.1, but you have folium 0.8.3 which is incompatible.\u001b[0m\n",
            "Successfully installed eli5-0.13.0 jinja2-3.1.2\n",
            "Looking in indexes: https://pypi.org/simple, https://us-python.pkg.dev/colab-wheels/public/simple/\n",
            "Collecting pdpbox\n",
            "  Downloading PDPbox-0.2.1.tar.gz (34.0 MB)\n",
            "\u001b[K     |████████████████████████████████| 34.0 MB 123 kB/s \n",
            "\u001b[?25hRequirement already satisfied: pandas in /usr/local/lib/python3.7/dist-packages (from pdpbox) (1.3.5)\n",
            "Requirement already satisfied: numpy in /usr/local/lib/python3.7/dist-packages (from pdpbox) (1.21.6)\n",
            "Requirement already satisfied: scipy in /usr/local/lib/python3.7/dist-packages (from pdpbox) (1.7.3)\n",
            "Requirement already satisfied: joblib in /usr/local/lib/python3.7/dist-packages (from pdpbox) (1.1.0)\n",
            "Requirement already satisfied: psutil in /usr/local/lib/python3.7/dist-packages (from pdpbox) (5.4.8)\n",
            "Collecting matplotlib==3.1.1\n",
            "  Downloading matplotlib-3.1.1-cp37-cp37m-manylinux1_x86_64.whl (13.1 MB)\n",
            "\u001b[K     |████████████████████████████████| 13.1 MB 39.7 MB/s \n",
            "\u001b[?25hRequirement already satisfied: sklearn in /usr/local/lib/python3.7/dist-packages (from pdpbox) (0.0)\n",
            "Requirement already satisfied: pyparsing!=2.0.4,!=2.1.2,!=2.1.6,>=2.0.1 in /usr/local/lib/python3.7/dist-packages (from matplotlib==3.1.1->pdpbox) (3.0.9)\n",
            "Requirement already satisfied: cycler>=0.10 in /usr/local/lib/python3.7/dist-packages (from matplotlib==3.1.1->pdpbox) (0.11.0)\n",
            "Requirement already satisfied: python-dateutil>=2.1 in /usr/local/lib/python3.7/dist-packages (from matplotlib==3.1.1->pdpbox) (2.8.2)\n",
            "Requirement already satisfied: kiwisolver>=1.0.1 in /usr/local/lib/python3.7/dist-packages (from matplotlib==3.1.1->pdpbox) (1.4.4)\n",
            "Requirement already satisfied: typing-extensions in /usr/local/lib/python3.7/dist-packages (from kiwisolver>=1.0.1->matplotlib==3.1.1->pdpbox) (4.1.1)\n",
            "Requirement already satisfied: six>=1.5 in /usr/local/lib/python3.7/dist-packages (from python-dateutil>=2.1->matplotlib==3.1.1->pdpbox) (1.15.0)\n",
            "Requirement already satisfied: pytz>=2017.3 in /usr/local/lib/python3.7/dist-packages (from pandas->pdpbox) (2022.1)\n",
            "Requirement already satisfied: scikit-learn in /usr/local/lib/python3.7/dist-packages (from sklearn->pdpbox) (1.0.2)\n",
            "Requirement already satisfied: threadpoolctl>=2.0.0 in /usr/local/lib/python3.7/dist-packages (from scikit-learn->sklearn->pdpbox) (3.1.0)\n",
            "Building wheels for collected packages: pdpbox\n",
            "  Building wheel for pdpbox (setup.py) ... \u001b[?25l\u001b[?25hdone\n",
            "  Created wheel for pdpbox: filename=PDPbox-0.2.1-py3-none-any.whl size=35758224 sha256=eec381e90248b21459c3dfab570181c8b1db08a46ee673b50fc1a8d952809575\n",
            "  Stored in directory: /root/.cache/pip/wheels/f4/d0/1a/b80035625c53131f52906a6fc4dd690d8efd2bf8af6a4015eb\n",
            "Successfully built pdpbox\n",
            "Installing collected packages: matplotlib, pdpbox\n",
            "  Attempting uninstall: matplotlib\n",
            "    Found existing installation: matplotlib 3.2.2\n",
            "    Uninstalling matplotlib-3.2.2:\n",
            "      Successfully uninstalled matplotlib-3.2.2\n",
            "\u001b[31mERROR: pip's dependency resolver does not currently take into account all the packages that are installed. This behaviour is the source of the following dependency conflicts.\n",
            "albumentations 0.1.12 requires imgaug<0.2.7,>=0.2.5, but you have imgaug 0.2.9 which is incompatible.\u001b[0m\n",
            "Successfully installed matplotlib-3.1.1 pdpbox-0.2.1\n"
          ]
        },
        {
          "output_type": "display_data",
          "data": {
            "application/vnd.colab-display-data+json": {
              "pip_warning": {
                "packages": [
                  "matplotlib",
                  "mpl_toolkits"
                ]
              }
            }
          },
          "metadata": {}
        }
      ]
    },
    {
      "cell_type": "code",
      "source": [
        "from google.colab import files\n",
        "uploaded = files.upload()"
      ],
      "metadata": {
        "colab": {
          "resources": {
            "http://localhost:8080/nbextensions/google.colab/files.js": {
              "data": "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",
              "ok": true,
              "headers": [
                [
                  "content-type",
                  "application/javascript"
                ]
              ],
              "status": 200,
              "status_text": ""
            }
          },
          "base_uri": "https://localhost:8080/",
          "height": 76
        },
        "id": "HZWrGPqj80sY",
        "outputId": "f08bb2b9-a495-4a5a-b763-bfcd99ce27d1"
      },
      "execution_count": null,
      "outputs": [
        {
          "output_type": "display_data",
          "data": {
            "text/plain": [
              "<IPython.core.display.HTML object>"
            ],
            "text/html": [
              "\n",
              "     <input type=\"file\" id=\"files-2d31c05b-2e6c-451f-97f4-a5ab5840655e\" name=\"files[]\" multiple disabled\n",
              "        style=\"border:none\" />\n",
              "     <output id=\"result-2d31c05b-2e6c-451f-97f4-a5ab5840655e\">\n",
              "      Upload widget is only available when the cell has been executed in the\n",
              "      current browser session. Please rerun this cell to enable.\n",
              "      </output>\n",
              "      <script src=\"/nbextensions/google.colab/files.js\"></script> "
            ]
          },
          "metadata": {}
        },
        {
          "output_type": "stream",
          "name": "stdout",
          "text": [
            "Saving students_adaptability_level_online_education.csv to students_adaptability_level_online_education.csv\n"
          ]
        }
      ]
    },
    {
      "cell_type": "code",
      "source": [
        "import pandas as pd\n",
        "\n",
        "df = pd.read_csv('students_adaptability_level_online_education.csv')\n",
        "df.head(10)"
      ],
      "metadata": {
        "colab": {
          "base_uri": "https://localhost:8080/",
          "height": 363
        },
        "id": "rXJ-Z5gd84DA",
        "outputId": "1dea81da-0784-438e-ea7b-d5f930f10b93"
      },
      "execution_count": null,
      "outputs": [
        {
          "output_type": "execute_result",
          "data": {
            "text/plain": [
              "  Education Level Institution Type  Gender  Age  Device IT Student Location  \\\n",
              "0      University          Private    Male   23     Tab         No     Town   \n",
              "1      University          Private  Female   23  Mobile         No     Town   \n",
              "2         College           Public  Female   18  Mobile         No     Town   \n",
              "3          School          Private  Female   11  Mobile         No     Town   \n",
              "4          School          Private  Female   18  Mobile         No     Town   \n",
              "5          School          Private    Male   11  Mobile         No     Town   \n",
              "6          School          Private    Male   11  Mobile         No     Town   \n",
              "7          School          Private    Male   11  Mobile         No     Town   \n",
              "8         College           Public    Male   18  Mobile         No     Town   \n",
              "9          School          Private    Male   11  Mobile         No     Town   \n",
              "\n",
              "  Financial Condition Internet Type Network Type Flexibility Level  \n",
              "0                 Mid          Wifi           4G          Moderate  \n",
              "1                 Mid   Mobile Data           4G          Moderate  \n",
              "2                 Mid          Wifi           4G          Moderate  \n",
              "3                 Mid   Mobile Data           4G          Moderate  \n",
              "4                Poor   Mobile Data           3G               Low  \n",
              "5                Poor   Mobile Data           3G               Low  \n",
              "6                 Mid          Wifi           4G               Low  \n",
              "7                 Mid          Wifi           4G          Moderate  \n",
              "8                 Mid          Wifi           4G               Low  \n",
              "9                 Mid   Mobile Data           3G          Moderate  "
            ],
            "text/html": [
              "\n",
              "  <div id=\"df-1d1a9701-c3aa-434d-839b-1d25ed5d18de\">\n",
              "    <div class=\"colab-df-container\">\n",
              "      <div>\n",
              "<style scoped>\n",
              "    .dataframe tbody tr th:only-of-type {\n",
              "        vertical-align: middle;\n",
              "    }\n",
              "\n",
              "    .dataframe tbody tr th {\n",
              "        vertical-align: top;\n",
              "    }\n",
              "\n",
              "    .dataframe thead th {\n",
              "        text-align: right;\n",
              "    }\n",
              "</style>\n",
              "<table border=\"1\" class=\"dataframe\">\n",
              "  <thead>\n",
              "    <tr style=\"text-align: right;\">\n",
              "      <th></th>\n",
              "      <th>Education Level</th>\n",
              "      <th>Institution Type</th>\n",
              "      <th>Gender</th>\n",
              "      <th>Age</th>\n",
              "      <th>Device</th>\n",
              "      <th>IT Student</th>\n",
              "      <th>Location</th>\n",
              "      <th>Financial Condition</th>\n",
              "      <th>Internet Type</th>\n",
              "      <th>Network Type</th>\n",
              "      <th>Flexibility Level</th>\n",
              "    </tr>\n",
              "  </thead>\n",
              "  <tbody>\n",
              "    <tr>\n",
              "      <th>0</th>\n",
              "      <td>University</td>\n",
              "      <td>Private</td>\n",
              "      <td>Male</td>\n",
              "      <td>23</td>\n",
              "      <td>Tab</td>\n",
              "      <td>No</td>\n",
              "      <td>Town</td>\n",
              "      <td>Mid</td>\n",
              "      <td>Wifi</td>\n",
              "      <td>4G</td>\n",
              "      <td>Moderate</td>\n",
              "    </tr>\n",
              "    <tr>\n",
              "      <th>1</th>\n",
              "      <td>University</td>\n",
              "      <td>Private</td>\n",
              "      <td>Female</td>\n",
              "      <td>23</td>\n",
              "      <td>Mobile</td>\n",
              "      <td>No</td>\n",
              "      <td>Town</td>\n",
              "      <td>Mid</td>\n",
              "      <td>Mobile Data</td>\n",
              "      <td>4G</td>\n",
              "      <td>Moderate</td>\n",
              "    </tr>\n",
              "    <tr>\n",
              "      <th>2</th>\n",
              "      <td>College</td>\n",
              "      <td>Public</td>\n",
              "      <td>Female</td>\n",
              "      <td>18</td>\n",
              "      <td>Mobile</td>\n",
              "      <td>No</td>\n",
              "      <td>Town</td>\n",
              "      <td>Mid</td>\n",
              "      <td>Wifi</td>\n",
              "      <td>4G</td>\n",
              "      <td>Moderate</td>\n",
              "    </tr>\n",
              "    <tr>\n",
              "      <th>3</th>\n",
              "      <td>School</td>\n",
              "      <td>Private</td>\n",
              "      <td>Female</td>\n",
              "      <td>11</td>\n",
              "      <td>Mobile</td>\n",
              "      <td>No</td>\n",
              "      <td>Town</td>\n",
              "      <td>Mid</td>\n",
              "      <td>Mobile Data</td>\n",
              "      <td>4G</td>\n",
              "      <td>Moderate</td>\n",
              "    </tr>\n",
              "    <tr>\n",
              "      <th>4</th>\n",
              "      <td>School</td>\n",
              "      <td>Private</td>\n",
              "      <td>Female</td>\n",
              "      <td>18</td>\n",
              "      <td>Mobile</td>\n",
              "      <td>No</td>\n",
              "      <td>Town</td>\n",
              "      <td>Poor</td>\n",
              "      <td>Mobile Data</td>\n",
              "      <td>3G</td>\n",
              "      <td>Low</td>\n",
              "    </tr>\n",
              "    <tr>\n",
              "      <th>5</th>\n",
              "      <td>School</td>\n",
              "      <td>Private</td>\n",
              "      <td>Male</td>\n",
              "      <td>11</td>\n",
              "      <td>Mobile</td>\n",
              "      <td>No</td>\n",
              "      <td>Town</td>\n",
              "      <td>Poor</td>\n",
              "      <td>Mobile Data</td>\n",
              "      <td>3G</td>\n",
              "      <td>Low</td>\n",
              "    </tr>\n",
              "    <tr>\n",
              "      <th>6</th>\n",
              "      <td>School</td>\n",
              "      <td>Private</td>\n",
              "      <td>Male</td>\n",
              "      <td>11</td>\n",
              "      <td>Mobile</td>\n",
              "      <td>No</td>\n",
              "      <td>Town</td>\n",
              "      <td>Mid</td>\n",
              "      <td>Wifi</td>\n",
              "      <td>4G</td>\n",
              "      <td>Low</td>\n",
              "    </tr>\n",
              "    <tr>\n",
              "      <th>7</th>\n",
              "      <td>School</td>\n",
              "      <td>Private</td>\n",
              "      <td>Male</td>\n",
              "      <td>11</td>\n",
              "      <td>Mobile</td>\n",
              "      <td>No</td>\n",
              "      <td>Town</td>\n",
              "      <td>Mid</td>\n",
              "      <td>Wifi</td>\n",
              "      <td>4G</td>\n",
              "      <td>Moderate</td>\n",
              "    </tr>\n",
              "    <tr>\n",
              "      <th>8</th>\n",
              "      <td>College</td>\n",
              "      <td>Public</td>\n",
              "      <td>Male</td>\n",
              "      <td>18</td>\n",
              "      <td>Mobile</td>\n",
              "      <td>No</td>\n",
              "      <td>Town</td>\n",
              "      <td>Mid</td>\n",
              "      <td>Wifi</td>\n",
              "      <td>4G</td>\n",
              "      <td>Low</td>\n",
              "    </tr>\n",
              "    <tr>\n",
              "      <th>9</th>\n",
              "      <td>School</td>\n",
              "      <td>Private</td>\n",
              "      <td>Male</td>\n",
              "      <td>11</td>\n",
              "      <td>Mobile</td>\n",
              "      <td>No</td>\n",
              "      <td>Town</td>\n",
              "      <td>Mid</td>\n",
              "      <td>Mobile Data</td>\n",
              "      <td>3G</td>\n",
              "      <td>Moderate</td>\n",
              "    </tr>\n",
              "  </tbody>\n",
              "</table>\n",
              "</div>\n",
              "      <button class=\"colab-df-convert\" onclick=\"convertToInteractive('df-1d1a9701-c3aa-434d-839b-1d25ed5d18de')\"\n",
              "              title=\"Convert this dataframe to an interactive table.\"\n",
              "              style=\"display:none;\">\n",
              "        \n",
              "  <svg xmlns=\"http://www.w3.org/2000/svg\" height=\"24px\"viewBox=\"0 0 24 24\"\n",
              "       width=\"24px\">\n",
              "    <path d=\"M0 0h24v24H0V0z\" fill=\"none\"/>\n",
              "    <path d=\"M18.56 5.44l.94 2.06.94-2.06 2.06-.94-2.06-.94-.94-2.06-.94 2.06-2.06.94zm-11 1L8.5 8.5l.94-2.06 2.06-.94-2.06-.94L8.5 2.5l-.94 2.06-2.06.94zm10 10l.94 2.06.94-2.06 2.06-.94-2.06-.94-.94-2.06-.94 2.06-2.06.94z\"/><path d=\"M17.41 7.96l-1.37-1.37c-.4-.4-.92-.59-1.43-.59-.52 0-1.04.2-1.43.59L10.3 9.45l-7.72 7.72c-.78.78-.78 2.05 0 2.83L4 21.41c.39.39.9.59 1.41.59.51 0 1.02-.2 1.41-.59l7.78-7.78 2.81-2.81c.8-.78.8-2.07 0-2.86zM5.41 20L4 18.59l7.72-7.72 1.47 1.35L5.41 20z\"/>\n",
              "  </svg>\n",
              "      </button>\n",
              "      \n",
              "  <style>\n",
              "    .colab-df-container {\n",
              "      display:flex;\n",
              "      flex-wrap:wrap;\n",
              "      gap: 12px;\n",
              "    }\n",
              "\n",
              "    .colab-df-convert {\n",
              "      background-color: #E8F0FE;\n",
              "      border: none;\n",
              "      border-radius: 50%;\n",
              "      cursor: pointer;\n",
              "      display: none;\n",
              "      fill: #1967D2;\n",
              "      height: 32px;\n",
              "      padding: 0 0 0 0;\n",
              "      width: 32px;\n",
              "    }\n",
              "\n",
              "    .colab-df-convert:hover {\n",
              "      background-color: #E2EBFA;\n",
              "      box-shadow: 0px 1px 2px rgba(60, 64, 67, 0.3), 0px 1px 3px 1px rgba(60, 64, 67, 0.15);\n",
              "      fill: #174EA6;\n",
              "    }\n",
              "\n",
              "    [theme=dark] .colab-df-convert {\n",
              "      background-color: #3B4455;\n",
              "      fill: #D2E3FC;\n",
              "    }\n",
              "\n",
              "    [theme=dark] .colab-df-convert:hover {\n",
              "      background-color: #434B5C;\n",
              "      box-shadow: 0px 1px 3px 1px rgba(0, 0, 0, 0.15);\n",
              "      filter: drop-shadow(0px 1px 2px rgba(0, 0, 0, 0.3));\n",
              "      fill: #FFFFFF;\n",
              "    }\n",
              "  </style>\n",
              "\n",
              "      <script>\n",
              "        const buttonEl =\n",
              "          document.querySelector('#df-1d1a9701-c3aa-434d-839b-1d25ed5d18de button.colab-df-convert');\n",
              "        buttonEl.style.display =\n",
              "          google.colab.kernel.accessAllowed ? 'block' : 'none';\n",
              "\n",
              "        async function convertToInteractive(key) {\n",
              "          const element = document.querySelector('#df-1d1a9701-c3aa-434d-839b-1d25ed5d18de');\n",
              "          const dataTable =\n",
              "            await google.colab.kernel.invokeFunction('convertToInteractive',\n",
              "                                                     [key], {});\n",
              "          if (!dataTable) return;\n",
              "\n",
              "          const docLinkHtml = 'Like what you see? Visit the ' +\n",
              "            '<a target=\"_blank\" href=https://colab.research.google.com/notebooks/data_table.ipynb>data table notebook</a>'\n",
              "            + ' to learn more about interactive tables.';\n",
              "          element.innerHTML = '';\n",
              "          dataTable['output_type'] = 'display_data';\n",
              "          await google.colab.output.renderOutput(dataTable, element);\n",
              "          const docLink = document.createElement('div');\n",
              "          docLink.innerHTML = docLinkHtml;\n",
              "          element.appendChild(docLink);\n",
              "        }\n",
              "      </script>\n",
              "    </div>\n",
              "  </div>\n",
              "  "
            ]
          },
          "metadata": {},
          "execution_count": 3
        }
      ]
    },
    {
      "cell_type": "code",
      "source": [
        "df.info()"
      ],
      "metadata": {
        "colab": {
          "base_uri": "https://localhost:8080/"
        },
        "id": "uVxJvIV2t1EW",
        "outputId": "36a001af-c0d8-4aa4-dcac-4b3dfa0f94fb"
      },
      "execution_count": null,
      "outputs": [
        {
          "output_type": "stream",
          "name": "stdout",
          "text": [
            "<class 'pandas.core.frame.DataFrame'>\n",
            "RangeIndex: 1205 entries, 0 to 1204\n",
            "Data columns (total 11 columns):\n",
            " #   Column               Non-Null Count  Dtype \n",
            "---  ------               --------------  ----- \n",
            " 0   Education Level      1205 non-null   object\n",
            " 1   Institution Type     1205 non-null   object\n",
            " 2   Gender               1205 non-null   object\n",
            " 3   Age                  1205 non-null   int64 \n",
            " 4   Device               1205 non-null   object\n",
            " 5   IT Student           1205 non-null   object\n",
            " 6   Location             1205 non-null   object\n",
            " 7   Financial Condition  1205 non-null   object\n",
            " 8   Internet Type        1205 non-null   object\n",
            " 9   Network Type         1205 non-null   object\n",
            " 10  Flexibility Level    1205 non-null   object\n",
            "dtypes: int64(1), object(10)\n",
            "memory usage: 103.7+ KB\n"
          ]
        }
      ]
    },
    {
      "cell_type": "code",
      "source": [
        "df.duplicated().sum()\n",
        "# 중복 데이터를 제거하면 데이터 크기가 너무 작아져서 제거하지 않고 진행"
      ],
      "metadata": {
        "colab": {
          "base_uri": "https://localhost:8080/"
        },
        "id": "tYu6DOvZeX1I",
        "outputId": "e1fc3c2d-cb62-4e1c-f2cd-b0969210d215"
      },
      "execution_count": null,
      "outputs": [
        {
          "output_type": "execute_result",
          "data": {
            "text/plain": [
              "980"
            ]
          },
          "metadata": {},
          "execution_count": 5
        }
      ]
    },
    {
      "cell_type": "code",
      "source": [
        "df.isnull().sum()"
      ],
      "metadata": {
        "colab": {
          "base_uri": "https://localhost:8080/"
        },
        "id": "-smwT-GIPp3N",
        "outputId": "f439c7af-6fb8-4f2c-932b-ec35e7d69c64"
      },
      "execution_count": null,
      "outputs": [
        {
          "output_type": "execute_result",
          "data": {
            "text/plain": [
              "Education Level        0\n",
              "Institution Type       0\n",
              "Gender                 0\n",
              "Age                    0\n",
              "Device                 0\n",
              "IT Student             0\n",
              "Location               0\n",
              "Financial Condition    0\n",
              "Internet Type          0\n",
              "Network Type           0\n",
              "Flexibility Level      0\n",
              "Effectiveness          0\n",
              "dtype: int64"
            ]
          },
          "metadata": {},
          "execution_count": 31
        }
      ]
    },
    {
      "cell_type": "code",
      "source": [
        "for col in df:\n",
        "  print(df[col].unique())"
      ],
      "metadata": {
        "colab": {
          "base_uri": "https://localhost:8080/"
        },
        "id": "iHBEcDKvUgLS",
        "outputId": "300bcc71-80ed-46d5-fa88-9d041cae83db"
      },
      "execution_count": null,
      "outputs": [
        {
          "output_type": "stream",
          "name": "stdout",
          "text": [
            "['University' 'College' 'School']\n",
            "['Private' 'Public']\n",
            "['Male' 'Female']\n",
            "[23 18 11 27 10  9]\n",
            "['Tab' 'Mobile' 'Computer']\n",
            "['No' 'Yes']\n",
            "['Town' 'Rural']\n",
            "['Mid' 'Poor' 'Rich']\n",
            "['Wifi' 'Mobile Data']\n",
            "['4G' '3G' '2G']\n",
            "['Moderate' 'Low' 'High']\n",
            "[ True False]\n"
          ]
        }
      ]
    },
    {
      "cell_type": "markdown",
      "source": [
        "### a. 타겟 특성 분포 확인 후 이진분류문제로 변환"
      ],
      "metadata": {
        "id": "CV14gKQElx2I"
      }
    },
    {
      "cell_type": "code",
      "source": [
        "# 타겟 분포 확인\n",
        "import seaborn as sns\n",
        "import matplotlib.pyplot as plt\n",
        "sns.displot(df['Flexibility Level']);"
      ],
      "metadata": {
        "colab": {
          "base_uri": "https://localhost:8080/",
          "height": 369
        },
        "id": "6FZWwp-bE2k7",
        "outputId": "c291d1cd-e6d4-42e7-d23b-d09ea9319349"
      },
      "execution_count": null,
      "outputs": [
        {
          "output_type": "display_data",
          "data": {
            "text/plain": [
              "<Figure size 360x360 with 1 Axes>"
            ],
            "image/png": "[encoded data removed]"
          },
          "metadata": {
            "needs_background": "light"
          }
        }
      ]
    },
    {
      "cell_type": "code",
      "source": [
        "# Effectiveness 특성을 만들어 이진분류문제로 변환\n",
        "df['Effectiveness'] = df['Flexibility Level'] != 'Low'\n",
        "df['Effectiveness'].nunique()"
      ],
      "metadata": {
        "colab": {
          "base_uri": "https://localhost:8080/"
        },
        "id": "tJrjkbobF6fV",
        "outputId": "e8733c81-aeeb-4f7d-a4b6-b6e4f96da304"
      },
      "execution_count": null,
      "outputs": [
        {
          "output_type": "execute_result",
          "data": {
            "text/plain": [
              "2"
            ]
          },
          "metadata": {},
          "execution_count": 8
        }
      ]
    },
    {
      "cell_type": "code",
      "source": [
        "df['Effectiveness'].value_counts()"
      ],
      "metadata": {
        "colab": {
          "base_uri": "https://localhost:8080/"
        },
        "id": "mfe_HCeoGzmZ",
        "outputId": "f4942336-410f-442f-bb65-5e04a20c60bb"
      },
      "execution_count": null,
      "outputs": [
        {
          "output_type": "execute_result",
          "data": {
            "text/plain": [
              "True     725\n",
              "False    480\n",
              "Name: Effectiveness, dtype: int64"
            ]
          },
          "metadata": {},
          "execution_count": 9
        }
      ]
    },
    {
      "cell_type": "code",
      "source": [
        "df.head(10)"
      ],
      "metadata": {
        "colab": {
          "base_uri": "https://localhost:8080/",
          "height": 363
        },
        "id": "EPpr_c0DG6PU",
        "outputId": "71b27a09-b298-4c0a-d389-1fd67f9024b8"
      },
      "execution_count": null,
      "outputs": [
        {
          "output_type": "execute_result",
          "data": {
            "text/plain": [
              "  Education Level Institution Type  Gender  Age  Device IT Student Location  \\\n",
              "0      University          Private    Male   23     Tab         No     Town   \n",
              "1      University          Private  Female   23  Mobile         No     Town   \n",
              "2         College           Public  Female   18  Mobile         No     Town   \n",
              "3          School          Private  Female   11  Mobile         No     Town   \n",
              "4          School          Private  Female   18  Mobile         No     Town   \n",
              "5          School          Private    Male   11  Mobile         No     Town   \n",
              "6          School          Private    Male   11  Mobile         No     Town   \n",
              "7          School          Private    Male   11  Mobile         No     Town   \n",
              "8         College           Public    Male   18  Mobile         No     Town   \n",
              "9          School          Private    Male   11  Mobile         No     Town   \n",
              "\n",
              "  Financial Condition Internet Type Network Type Flexibility Level  \\\n",
              "0                 Mid          Wifi           4G          Moderate   \n",
              "1                 Mid   Mobile Data           4G          Moderate   \n",
              "2                 Mid          Wifi           4G          Moderate   \n",
              "3                 Mid   Mobile Data           4G          Moderate   \n",
              "4                Poor   Mobile Data           3G               Low   \n",
              "5                Poor   Mobile Data           3G               Low   \n",
              "6                 Mid          Wifi           4G               Low   \n",
              "7                 Mid          Wifi           4G          Moderate   \n",
              "8                 Mid          Wifi           4G               Low   \n",
              "9                 Mid   Mobile Data           3G          Moderate   \n",
              "\n",
              "   Effectiveness  \n",
              "0           True  \n",
              "1           True  \n",
              "2           True  \n",
              "3           True  \n",
              "4          False  \n",
              "5          False  \n",
              "6          False  \n",
              "7           True  \n",
              "8          False  \n",
              "9           True  "
            ],
            "text/html": [
              "\n",
              "  <div id=\"df-b8813e69-13fb-48af-8548-0d7e3db261c5\">\n",
              "    <div class=\"colab-df-container\">\n",
              "      <div>\n",
              "<style scoped>\n",
              "    .dataframe tbody tr th:only-of-type {\n",
              "        vertical-align: middle;\n",
              "    }\n",
              "\n",
              "    .dataframe tbody tr th {\n",
              "        vertical-align: top;\n",
              "    }\n",
              "\n",
              "    .dataframe thead th {\n",
              "        text-align: right;\n",
              "    }\n",
              "</style>\n",
              "<table border=\"1\" class=\"dataframe\">\n",
              "  <thead>\n",
              "    <tr style=\"text-align: right;\">\n",
              "      <th></th>\n",
              "      <th>Education Level</th>\n",
              "      <th>Institution Type</th>\n",
              "      <th>Gender</th>\n",
              "      <th>Age</th>\n",
              "      <th>Device</th>\n",
              "      <th>IT Student</th>\n",
              "      <th>Location</th>\n",
              "      <th>Financial Condition</th>\n",
              "      <th>Internet Type</th>\n",
              "      <th>Network Type</th>\n",
              "      <th>Flexibility Level</th>\n",
              "      <th>Effectiveness</th>\n",
              "    </tr>\n",
              "  </thead>\n",
              "  <tbody>\n",
              "    <tr>\n",
              "      <th>0</th>\n",
              "      <td>University</td>\n",
              "      <td>Private</td>\n",
              "      <td>Male</td>\n",
              "      <td>23</td>\n",
              "      <td>Tab</td>\n",
              "      <td>No</td>\n",
              "      <td>Town</td>\n",
              "      <td>Mid</td>\n",
              "      <td>Wifi</td>\n",
              "      <td>4G</td>\n",
              "      <td>Moderate</td>\n",
              "      <td>True</td>\n",
              "    </tr>\n",
              "    <tr>\n",
              "      <th>1</th>\n",
              "      <td>University</td>\n",
              "      <td>Private</td>\n",
              "      <td>Female</td>\n",
              "      <td>23</td>\n",
              "      <td>Mobile</td>\n",
              "      <td>No</td>\n",
              "      <td>Town</td>\n",
              "      <td>Mid</td>\n",
              "      <td>Mobile Data</td>\n",
              "      <td>4G</td>\n",
              "      <td>Moderate</td>\n",
              "      <td>True</td>\n",
              "    </tr>\n",
              "    <tr>\n",
              "      <th>2</th>\n",
              "      <td>College</td>\n",
              "      <td>Public</td>\n",
              "      <td>Female</td>\n",
              "      <td>18</td>\n",
              "      <td>Mobile</td>\n",
              "      <td>No</td>\n",
              "      <td>Town</td>\n",
              "      <td>Mid</td>\n",
              "      <td>Wifi</td>\n",
              "      <td>4G</td>\n",
              "      <td>Moderate</td>\n",
              "      <td>True</td>\n",
              "    </tr>\n",
              "    <tr>\n",
              "      <th>3</th>\n",
              "      <td>School</td>\n",
              "      <td>Private</td>\n",
              "      <td>Female</td>\n",
              "      <td>11</td>\n",
              "      <td>Mobile</td>\n",
              "      <td>No</td>\n",
              "      <td>Town</td>\n",
              "      <td>Mid</td>\n",
              "      <td>Mobile Data</td>\n",
              "      <td>4G</td>\n",
              "      <td>Moderate</td>\n",
              "      <td>True</td>\n",
              "    </tr>\n",
              "    <tr>\n",
              "      <th>4</th>\n",
              "      <td>School</td>\n",
              "      <td>Private</td>\n",
              "      <td>Female</td>\n",
              "      <td>18</td>\n",
              "      <td>Mobile</td>\n",
              "      <td>No</td>\n",
              "      <td>Town</td>\n",
              "      <td>Poor</td>\n",
              "      <td>Mobile Data</td>\n",
              "      <td>3G</td>\n",
              "      <td>Low</td>\n",
              "      <td>False</td>\n",
              "    </tr>\n",
              "    <tr>\n",
              "      <th>5</th>\n",
              "      <td>School</td>\n",
              "      <td>Private</td>\n",
              "      <td>Male</td>\n",
              "      <td>11</td>\n",
              "      <td>Mobile</td>\n",
              "      <td>No</td>\n",
              "      <td>Town</td>\n",
              "      <td>Poor</td>\n",
              "      <td>Mobile Data</td>\n",
              "      <td>3G</td>\n",
              "      <td>Low</td>\n",
              "      <td>False</td>\n",
              "    </tr>\n",
              "    <tr>\n",
              "      <th>6</th>\n",
              "      <td>School</td>\n",
              "      <td>Private</td>\n",
              "      <td>Male</td>\n",
              "      <td>11</td>\n",
              "      <td>Mobile</td>\n",
              "      <td>No</td>\n",
              "      <td>Town</td>\n",
              "      <td>Mid</td>\n",
              "      <td>Wifi</td>\n",
              "      <td>4G</td>\n",
              "      <td>Low</td>\n",
              "      <td>False</td>\n",
              "    </tr>\n",
              "    <tr>\n",
              "      <th>7</th>\n",
              "      <td>School</td>\n",
              "      <td>Private</td>\n",
              "      <td>Male</td>\n",
              "      <td>11</td>\n",
              "      <td>Mobile</td>\n",
              "      <td>No</td>\n",
              "      <td>Town</td>\n",
              "      <td>Mid</td>\n",
              "      <td>Wifi</td>\n",
              "      <td>4G</td>\n",
              "      <td>Moderate</td>\n",
              "      <td>True</td>\n",
              "    </tr>\n",
              "    <tr>\n",
              "      <th>8</th>\n",
              "      <td>College</td>\n",
              "      <td>Public</td>\n",
              "      <td>Male</td>\n",
              "      <td>18</td>\n",
              "      <td>Mobile</td>\n",
              "      <td>No</td>\n",
              "      <td>Town</td>\n",
              "      <td>Mid</td>\n",
              "      <td>Wifi</td>\n",
              "      <td>4G</td>\n",
              "      <td>Low</td>\n",
              "      <td>False</td>\n",
              "    </tr>\n",
              "    <tr>\n",
              "      <th>9</th>\n",
              "      <td>School</td>\n",
              "      <td>Private</td>\n",
              "      <td>Male</td>\n",
              "      <td>11</td>\n",
              "      <td>Mobile</td>\n",
              "      <td>No</td>\n",
              "      <td>Town</td>\n",
              "      <td>Mid</td>\n",
              "      <td>Mobile Data</td>\n",
              "      <td>3G</td>\n",
              "      <td>Moderate</td>\n",
              "      <td>True</td>\n",
              "    </tr>\n",
              "  </tbody>\n",
              "</table>\n",
              "</div>\n",
              "      <button class=\"colab-df-convert\" onclick=\"convertToInteractive('df-b8813e69-13fb-48af-8548-0d7e3db261c5')\"\n",
              "              title=\"Convert this dataframe to an interactive table.\"\n",
              "              style=\"display:none;\">\n",
              "        \n",
              "  <svg xmlns=\"http://www.w3.org/2000/svg\" height=\"24px\"viewBox=\"0 0 24 24\"\n",
              "       width=\"24px\">\n",
              "    <path d=\"M0 0h24v24H0V0z\" fill=\"none\"/>\n",
              "    <path d=\"M18.56 5.44l.94 2.06.94-2.06 2.06-.94-2.06-.94-.94-2.06-.94 2.06-2.06.94zm-11 1L8.5 8.5l.94-2.06 2.06-.94-2.06-.94L8.5 2.5l-.94 2.06-2.06.94zm10 10l.94 2.06.94-2.06 2.06-.94-2.06-.94-.94-2.06-.94 2.06-2.06.94z\"/><path d=\"M17.41 7.96l-1.37-1.37c-.4-.4-.92-.59-1.43-.59-.52 0-1.04.2-1.43.59L10.3 9.45l-7.72 7.72c-.78.78-.78 2.05 0 2.83L4 21.41c.39.39.9.59 1.41.59.51 0 1.02-.2 1.41-.59l7.78-7.78 2.81-2.81c.8-.78.8-2.07 0-2.86zM5.41 20L4 18.59l7.72-7.72 1.47 1.35L5.41 20z\"/>\n",
              "  </svg>\n",
              "      </button>\n",
              "      \n",
              "  <style>\n",
              "    .colab-df-container {\n",
              "      display:flex;\n",
              "      flex-wrap:wrap;\n",
              "      gap: 12px;\n",
              "    }\n",
              "\n",
              "    .colab-df-convert {\n",
              "      background-color: #E8F0FE;\n",
              "      border: none;\n",
              "      border-radius: 50%;\n",
              "      cursor: pointer;\n",
              "      display: none;\n",
              "      fill: #1967D2;\n",
              "      height: 32px;\n",
              "      padding: 0 0 0 0;\n",
              "      width: 32px;\n",
              "    }\n",
              "\n",
              "    .colab-df-convert:hover {\n",
              "      background-color: #E2EBFA;\n",
              "      box-shadow: 0px 1px 2px rgba(60, 64, 67, 0.3), 0px 1px 3px 1px rgba(60, 64, 67, 0.15);\n",
              "      fill: #174EA6;\n",
              "    }\n",
              "\n",
              "    [theme=dark] .colab-df-convert {\n",
              "      background-color: #3B4455;\n",
              "      fill: #D2E3FC;\n",
              "    }\n",
              "\n",
              "    [theme=dark] .colab-df-convert:hover {\n",
              "      background-color: #434B5C;\n",
              "      box-shadow: 0px 1px 3px 1px rgba(0, 0, 0, 0.15);\n",
              "      filter: drop-shadow(0px 1px 2px rgba(0, 0, 0, 0.3));\n",
              "      fill: #FFFFFF;\n",
              "    }\n",
              "  </style>\n",
              "\n",
              "      <script>\n",
              "        const buttonEl =\n",
              "          document.querySelector('#df-b8813e69-13fb-48af-8548-0d7e3db261c5 button.colab-df-convert');\n",
              "        buttonEl.style.display =\n",
              "          google.colab.kernel.accessAllowed ? 'block' : 'none';\n",
              "\n",
              "        async function convertToInteractive(key) {\n",
              "          const element = document.querySelector('#df-b8813e69-13fb-48af-8548-0d7e3db261c5');\n",
              "          const dataTable =\n",
              "            await google.colab.kernel.invokeFunction('convertToInteractive',\n",
              "                                                     [key], {});\n",
              "          if (!dataTable) return;\n",
              "\n",
              "          const docLinkHtml = 'Like what you see? Visit the ' +\n",
              "            '<a target=\"_blank\" href=https://colab.research.google.com/notebooks/data_table.ipynb>data table notebook</a>'\n",
              "            + ' to learn more about interactive tables.';\n",
              "          element.innerHTML = '';\n",
              "          dataTable['output_type'] = 'display_data';\n",
              "          await google.colab.output.renderOutput(dataTable, element);\n",
              "          const docLink = document.createElement('div');\n",
              "          docLink.innerHTML = docLinkHtml;\n",
              "          element.appendChild(docLink);\n",
              "        }\n",
              "      </script>\n",
              "    </div>\n",
              "  </div>\n",
              "  "
            ]
          },
          "metadata": {},
          "execution_count": 10
        }
      ]
    },
    {
      "cell_type": "markdown",
      "source": [
        "### b. 새로운 타겟 특성의 비율"
      ],
      "metadata": {
        "id": "f-nJHeUKmj9V"
      }
    },
    {
      "cell_type": "code",
      "source": [
        "import matplotlib.pyplot as plt\n",
        "\n",
        "target = 'Effectiveness'\n",
        "\n",
        "plt.pie(\n",
        "    ((df[target] == True).sum(), (df[target] == False).sum()),\n",
        "    labels=('True', 'False'),\n",
        "    autopct=\"%.2f%%\",\n",
        "    shadow=True,\n",
        "    startangle=90,\n",
        ")\n",
        "plt.title(\"Target: Effectiveness\", size=15)\n",
        "plt.show()"
      ],
      "metadata": {
        "colab": {
          "base_uri": "https://localhost:8080/",
          "height": 266
        },
        "id": "YDSuVB2BuT_5",
        "outputId": "6666795c-b27e-4124-eb4e-1e6c69062fe1"
      },
      "execution_count": null,
      "outputs": [
        {
          "output_type": "display_data",
          "data": {
            "text/plain": [
              "<Figure size 432x288 with 1 Axes>"
            ],
            "image/png": "[encoded data removed]"
          },
          "metadata": {}
        }
      ]
    },
    {
      "cell_type": "markdown",
      "source": [
        "# 3. 모델링 및 모델 해석\n",
        "\n",
        "---\n",
        "\n"
      ],
      "metadata": {
        "id": "ZvqeAK70cpqH"
      }
    },
    {
      "cell_type": "code",
      "source": [
        "from sklearn.model_selection import train_test_split\n",
        "train, test = train_test_split(df, test_size=0.2, random_state=2)\n",
        "train.shape, test.shape"
      ],
      "metadata": {
        "colab": {
          "base_uri": "https://localhost:8080/"
        },
        "id": "56NAt6ZHHb5K",
        "outputId": "45eb1d9b-43c0-450c-9a03-4aa6f21b3556"
      },
      "execution_count": null,
      "outputs": [
        {
          "output_type": "execute_result",
          "data": {
            "text/plain": [
              "((964, 12), (241, 12))"
            ]
          },
          "metadata": {},
          "execution_count": 13
        }
      ]
    },
    {
      "cell_type": "code",
      "source": [
        "def divide_data(df):\n",
        "\n",
        "    target = 'Effectiveness'\n",
        "    X = df.drop([target, 'Flexibility Level'], axis=1)\n",
        "    y = df[target]\n",
        "\n",
        "    return X, y"
      ],
      "metadata": {
        "id": "s7Na4xFNx-mo"
      },
      "execution_count": null,
      "outputs": []
    },
    {
      "cell_type": "code",
      "source": [
        "X_train, y_train = divide_data(train)\n",
        "X_test, y_test = divide_data(test)\n",
        "print(X_train.shape, y_train.shape, X_test.shape, y_test.shape)"
      ],
      "metadata": {
        "colab": {
          "base_uri": "https://localhost:8080/"
        },
        "id": "k3Jn_0_wyTp3",
        "outputId": "0eee1a93-81b2-4216-d15f-c0b1a2c65a60"
      },
      "execution_count": null,
      "outputs": [
        {
          "output_type": "stream",
          "name": "stdout",
          "text": [
            "(964, 10) (964,) (241, 10) (241,)\n"
          ]
        }
      ]
    },
    {
      "cell_type": "code",
      "source": [
        "from sklearn.model_selection import RandomizedSearchCV\n",
        "from sklearn.pipeline import make_pipeline\n",
        "from sklearn.metrics import classification_report\n",
        "\n",
        "from category_encoders import OrdinalEncoder\n",
        "from xgboost import XGBClassifier\n",
        "\n",
        "def fit(X_train, y_train):\n",
        "    pipeline = make_pipeline(\n",
        "      OrdinalEncoder(),\n",
        "      XGBClassifier(n_estimators=200\n",
        "                    , random_state=2\n",
        "                    , n_jobs=-1\n",
        "                    , max_depth=7\n",
        "                    , learning_rate=0.2\n",
        "                  )\n",
        "    )   \n",
        "\n",
        "    dists = {\n",
        "        'xgbclassifier__max_depth' : [3, 4, 5, 6, 8, 10, 12, 15],\n",
        "        'xgbclassifier__learning_rate' : [0.05, 0.10, 0.15, 0.20, 0.25, 0.30],\n",
        "        'xgbclassifier__min_child_weight' : [1, 3, 5, 7],\n",
        "        'xgbclassifier__gamma': [0.0, 0.1, 0.2 , 0.3, 0.4],\n",
        "        'xgbclassifier__colsample_bytree' : [0.3, 0.4, 0.5, 0.7]\n",
        "    }\n",
        "\n",
        "    clf = RandomizedSearchCV(\n",
        "      pipeline, \n",
        "      param_distributions=dists,\n",
        "      n_iter=5, \n",
        "      cv=3, \n",
        "      scoring='roc_auc',\n",
        "      verbose=1,  \n",
        "      n_jobs=-1,\n",
        "      random_state = 42\n",
        "    )\n",
        "    \n",
        "    clf.fit(X_train, y_train)\n",
        "    print(\"Optimal Hyperparameter:\", clf.best_params_)\n",
        "    print(\"AUC:\", clf.best_score_)\n",
        "\n",
        "    return clf\n",
        "\n",
        "def predict(X, y, best_estimator):\n",
        "\n",
        "    clf = fit(X, y)\n",
        "    clf.best_estimator_ = best_estimator\n",
        "    y_pred_proba = clf.predict_proba(X)[:, 1]\n",
        "\n",
        "    report = classification_report(y, y_pred_proba > 0.5)\n",
        "    return y_pred_proba, report"
      ],
      "metadata": {
        "id": "xa9MyBZbykQb"
      },
      "execution_count": null,
      "outputs": []
    },
    {
      "cell_type": "code",
      "source": [
        "clf = fit(X_train, y_train)"
      ],
      "metadata": {
        "colab": {
          "base_uri": "https://localhost:8080/"
        },
        "id": "oPToRTk7zV_8",
        "outputId": "a2675c0e-0282-48fa-ab9b-7940b44a4858"
      },
      "execution_count": null,
      "outputs": [
        {
          "output_type": "stream",
          "name": "stdout",
          "text": [
            "Fitting 3 folds for each of 5 candidates, totalling 15 fits\n",
            "Optimal Hyperparameter: {'xgbclassifier__min_child_weight': 5, 'xgbclassifier__max_depth': 4, 'xgbclassifier__learning_rate': 0.2, 'xgbclassifier__gamma': 0.1, 'xgbclassifier__colsample_bytree': 0.7}\n",
            "AUC: 0.8868806834948231\n"
          ]
        }
      ]
    },
    {
      "cell_type": "markdown",
      "source": [
        "### a. 기준모델과 성능비교"
      ],
      "metadata": {
        "id": "ieccFuv4oR6F"
      }
    },
    {
      "cell_type": "code",
      "source": [
        "from sklearn.metrics import roc_curve, roc_auc_score\n",
        "\n",
        "def plot_roc(y, y_pred_proba):\n",
        "    auc_score = roc_auc_score(y, y_pred_proba)\n",
        "    fpr, tpr, _ = roc_curve(y, y_pred_proba)\n",
        "    baseline_fpr, baseline_tpr, _ = roc_curve(y, [0] * len(y))\n",
        "\n",
        "    plt.style.use(\"ggplot\")\n",
        "    plt.plot(fpr, tpr, label=\"Model\")\n",
        "    plt.plot(baseline_fpr, baseline_tpr, linestyle=\"--\", label=\"Baseline\")\n",
        "    plt.xlabel(\"False Positive Rate\", size=12)\n",
        "    plt.ylabel(\"True Positive Rate\", size=12)\n",
        "    plt.title(\"Receiver Operating Characteristic\")\n",
        "    plt.legend(prop={\"size\": 12})\n",
        "    plt.show()\n",
        "    return auc_score\n",
        "\n",
        "y_test_pred_proba, report = predict(X_test, y_test, clf.best_estimator_)\n",
        "print(report)\n",
        "auc_score = plot_roc(y_test, y_test_pred_proba)"
      ],
      "metadata": {
        "colab": {
          "base_uri": "https://localhost:8080/",
          "height": 527
        },
        "id": "-kV8sElDzdgF",
        "outputId": "9a415a76-7064-45f4-be51-89dee20d3338"
      },
      "execution_count": null,
      "outputs": [
        {
          "output_type": "stream",
          "name": "stdout",
          "text": [
            "Fitting 3 folds for each of 5 candidates, totalling 15 fits\n",
            "Optimal Hyperparameter: {'xgbclassifier__min_child_weight': 5, 'xgbclassifier__max_depth': 5, 'xgbclassifier__learning_rate': 0.3, 'xgbclassifier__gamma': 0.0, 'xgbclassifier__colsample_bytree': 0.4}\n",
            "AUC: 0.7567356055010376\n",
            "              precision    recall  f1-score   support\n",
            "\n",
            "       False       0.76      0.76      0.76        79\n",
            "        True       0.88      0.88      0.88       162\n",
            "\n",
            "    accuracy                           0.84       241\n",
            "   macro avg       0.82      0.82      0.82       241\n",
            "weighted avg       0.84      0.84      0.84       241\n",
            "\n"
          ]
        },
        {
          "output_type": "display_data",
          "data": {
            "text/plain": [
              "<Figure size 432x288 with 1 Axes>"
            ],
            "image/png": "[encoded data removed]"
          },
          "metadata": {}
        }
      ]
    },
    {
      "cell_type": "code",
      "source": [
        "print(\"Test AUC:\", auc_score)"
      ],
      "metadata": {
        "colab": {
          "base_uri": "https://localhost:8080/"
        },
        "id": "KG9FoxI1zhCn",
        "outputId": "f76427fd-d28d-483c-ec5f-a5540cb4574f"
      },
      "execution_count": null,
      "outputs": [
        {
          "output_type": "stream",
          "name": "stdout",
          "text": [
            "Test AUC: 0.8866229098296609\n"
          ]
        }
      ]
    },
    {
      "cell_type": "code",
      "source": [
        "pipeline = clf.best_estimator_\n",
        "\n",
        "encoder = pipeline.named_steps['ordinalencoder']\n",
        "model = pipeline.named_steps['xgbclassifier']\n",
        "X_test_encoded =  encoder.transform(X_test)"
      ],
      "metadata": {
        "id": "roltaXNU1ZFV"
      },
      "execution_count": null,
      "outputs": []
    },
    {
      "cell_type": "code",
      "source": [
        "import eli5\n",
        "from eli5.sklearn import PermutationImportance\n",
        "\n",
        "def get_permutation_importance(X, y, model):\n",
        "    permuter = PermutationImportance(\n",
        "        model,\n",
        "        scoring='roc_auc',\n",
        "        n_iter=5, \n",
        "        random_state=42)\n",
        "    permuter.fit(X, y)\n",
        "\n",
        "    return permuter"
      ],
      "metadata": {
        "id": "9i_NDomy1k8d"
      },
      "execution_count": null,
      "outputs": []
    },
    {
      "cell_type": "code",
      "source": [
        "permuter = get_permutation_importance(X_test_encoded, y_test, model)\n",
        "eli5.show_weights(permuter, top=None, feature_names=X_test.columns.tolist())"
      ],
      "metadata": {
        "colab": {
          "base_uri": "https://localhost:8080/",
          "height": 208
        },
        "id": "9v4jLkAQ1oyo",
        "outputId": "c8d5b414-30b2-4688-e514-f3c6d58d5a89"
      },
      "execution_count": null,
      "outputs": [
        {
          "output_type": "execute_result",
          "data": {
            "text/plain": [
              "<IPython.core.display.HTML object>"
            ],
            "text/html": [
              "\n",
              "    <style>\n",
              "    table.eli5-weights tr:hover {\n",
              "        filter: brightness(85%);\n",
              "    }\n",
              "</style>\n",
              "\n",
              "\n",
              "\n",
              "    \n",
              "\n",
              "    \n",
              "\n",
              "    \n",
              "\n",
              "    \n",
              "\n",
              "    \n",
              "\n",
              "    \n",
              "\n",
              "\n",
              "    \n",
              "\n",
              "    \n",
              "\n",
              "    \n",
              "\n",
              "    \n",
              "\n",
              "    \n",
              "\n",
              "    \n",
              "\n",
              "\n",
              "    \n",
              "\n",
              "    \n",
              "\n",
              "    \n",
              "\n",
              "    \n",
              "\n",
              "    \n",
              "        <table class=\"eli5-weights eli5-feature-importances\" style=\"border-collapse: collapse; border: none; margin-top: 0em; table-layout: auto;\">\n",
              "    <thead>\n",
              "    <tr style=\"border: none;\">\n",
              "        <th style=\"padding: 0 1em 0 0.5em; text-align: right; border: none;\">Weight</th>\n",
              "        <th style=\"padding: 0 0.5em 0 0.5em; text-align: left; border: none;\">Feature</th>\n",
              "    </tr>\n",
              "    </thead>\n",
              "    <tbody>\n",
              "    \n",
              "        <tr style=\"background-color: hsl(120, 100.00%, 80.00%); border: none;\">\n",
              "            <td style=\"padding: 0 1em 0 0.5em; text-align: right; border: none;\">\n",
              "                0.1607\n",
              "                \n",
              "                    &plusmn; 0.0159\n",
              "                \n",
              "            </td>\n",
              "            <td style=\"padding: 0 0.5em 0 0.5em; text-align: left; border: none;\">\n",
              "                Institution Type\n",
              "            </td>\n",
              "        </tr>\n",
              "    \n",
              "        <tr style=\"background-color: hsl(120, 100.00%, 85.12%); border: none;\">\n",
              "            <td style=\"padding: 0 1em 0 0.5em; text-align: right; border: none;\">\n",
              "                0.1054\n",
              "                \n",
              "                    &plusmn; 0.0230\n",
              "                \n",
              "            </td>\n",
              "            <td style=\"padding: 0 0.5em 0 0.5em; text-align: left; border: none;\">\n",
              "                Age\n",
              "            </td>\n",
              "        </tr>\n",
              "    \n",
              "        <tr style=\"background-color: hsl(120, 100.00%, 86.12%); border: none;\">\n",
              "            <td style=\"padding: 0 1em 0 0.5em; text-align: right; border: none;\">\n",
              "                0.0953\n",
              "                \n",
              "                    &plusmn; 0.0124\n",
              "                \n",
              "            </td>\n",
              "            <td style=\"padding: 0 0.5em 0 0.5em; text-align: left; border: none;\">\n",
              "                Gender\n",
              "            </td>\n",
              "        </tr>\n",
              "    \n",
              "        <tr style=\"background-color: hsl(120, 100.00%, 87.07%); border: none;\">\n",
              "            <td style=\"padding: 0 1em 0 0.5em; text-align: right; border: none;\">\n",
              "                0.0861\n",
              "                \n",
              "                    &plusmn; 0.0297\n",
              "                \n",
              "            </td>\n",
              "            <td style=\"padding: 0 0.5em 0 0.5em; text-align: left; border: none;\">\n",
              "                Network Type\n",
              "            </td>\n",
              "        </tr>\n",
              "    \n",
              "        <tr style=\"background-color: hsl(120, 100.00%, 87.17%); border: none;\">\n",
              "            <td style=\"padding: 0 1em 0 0.5em; text-align: right; border: none;\">\n",
              "                0.0852\n",
              "                \n",
              "                    &plusmn; 0.0144\n",
              "                \n",
              "            </td>\n",
              "            <td style=\"padding: 0 0.5em 0 0.5em; text-align: left; border: none;\">\n",
              "                Education Level\n",
              "            </td>\n",
              "        </tr>\n",
              "    \n",
              "        <tr style=\"background-color: hsl(120, 100.00%, 88.01%); border: none;\">\n",
              "            <td style=\"padding: 0 1em 0 0.5em; text-align: right; border: none;\">\n",
              "                0.0774\n",
              "                \n",
              "                    &plusmn; 0.0488\n",
              "                \n",
              "            </td>\n",
              "            <td style=\"padding: 0 0.5em 0 0.5em; text-align: left; border: none;\">\n",
              "                IT Student\n",
              "            </td>\n",
              "        </tr>\n",
              "    \n",
              "        <tr style=\"background-color: hsl(120, 100.00%, 88.68%); border: none;\">\n",
              "            <td style=\"padding: 0 1em 0 0.5em; text-align: right; border: none;\">\n",
              "                0.0713\n",
              "                \n",
              "                    &plusmn; 0.0334\n",
              "                \n",
              "            </td>\n",
              "            <td style=\"padding: 0 0.5em 0 0.5em; text-align: left; border: none;\">\n",
              "                Financial Condition\n",
              "            </td>\n",
              "        </tr>\n",
              "    \n",
              "        <tr style=\"background-color: hsl(120, 100.00%, 90.25%); border: none;\">\n",
              "            <td style=\"padding: 0 1em 0 0.5em; text-align: right; border: none;\">\n",
              "                0.0576\n",
              "                \n",
              "                    &plusmn; 0.0284\n",
              "                \n",
              "            </td>\n",
              "            <td style=\"padding: 0 0.5em 0 0.5em; text-align: left; border: none;\">\n",
              "                Internet Type\n",
              "            </td>\n",
              "        </tr>\n",
              "    \n",
              "        <tr style=\"background-color: hsl(120, 100.00%, 91.09%); border: none;\">\n",
              "            <td style=\"padding: 0 1em 0 0.5em; text-align: right; border: none;\">\n",
              "                0.0507\n",
              "                \n",
              "                    &plusmn; 0.0182\n",
              "                \n",
              "            </td>\n",
              "            <td style=\"padding: 0 0.5em 0 0.5em; text-align: left; border: none;\">\n",
              "                Location\n",
              "            </td>\n",
              "        </tr>\n",
              "    \n",
              "        <tr style=\"background-color: hsl(120, 100.00%, 93.53%); border: none;\">\n",
              "            <td style=\"padding: 0 1em 0 0.5em; text-align: right; border: none;\">\n",
              "                0.0321\n",
              "                \n",
              "                    &plusmn; 0.0085\n",
              "                \n",
              "            </td>\n",
              "            <td style=\"padding: 0 0.5em 0 0.5em; text-align: left; border: none;\">\n",
              "                Device\n",
              "            </td>\n",
              "        </tr>\n",
              "    \n",
              "    \n",
              "    </tbody>\n",
              "</table>\n",
              "    \n",
              "\n",
              "    \n",
              "\n",
              "\n",
              "    \n",
              "\n",
              "    \n",
              "\n",
              "    \n",
              "\n",
              "    \n",
              "\n",
              "    \n",
              "\n",
              "    \n",
              "\n",
              "\n",
              "\n"
            ]
          },
          "metadata": {},
          "execution_count": 22
        }
      ]
    },
    {
      "cell_type": "code",
      "source": [
        "from pdpbox.pdp import pdp_isolate, pdp_plot\n",
        "\n",
        "def get_pdp_isolated(dataset, model, feature):\n",
        "    pdp_isolated = pdp_isolate(\n",
        "      model=model, \n",
        "      dataset=dataset, \n",
        "      model_features=dataset.columns, \n",
        "      feature=feature,\n",
        "      grid_type='percentile', # default='percentile', or 'equal'\n",
        "      num_grid_points=10 # default=10\n",
        "    )\n",
        "\n",
        "    return pdp_isolated"
      ],
      "metadata": {
        "id": "CvVLM3Gi4aTR"
      },
      "execution_count": null,
      "outputs": []
    },
    {
      "cell_type": "code",
      "source": [
        "X_test_preprocessed_df = pd.DataFrame(X_test_encoded, columns=X_test.columns)\n",
        "feature = 'Institution Type'\n",
        "pdp_isolated = get_pdp_isolated(X_test_preprocessed_df, model, feature)\n",
        "\n",
        "for item in encoder.mapping:\n",
        "    if item['col'] == feature:\n",
        "        feature_mapping = item['mapping'] # Series\n",
        "        \n",
        "feature_mapping = feature_mapping[feature_mapping.index.dropna()]\n",
        "category_names = feature_mapping.index.tolist()\n",
        "category_codes = feature_mapping.values.tolist()"
      ],
      "metadata": {
        "id": "cVrYM6E84iXl"
      },
      "execution_count": null,
      "outputs": []
    },
    {
      "cell_type": "markdown",
      "source": [
        "### b. 특성 중요도"
      ],
      "metadata": {
        "id": "TfY5vTsAoik5"
      }
    },
    {
      "cell_type": "code",
      "source": [
        "pdp_plot(pdp_isolated, feature_name=feature);\n",
        "plt.xticks(category_codes, category_names);"
      ],
      "metadata": {
        "colab": {
          "base_uri": "https://localhost:8080/",
          "height": 647
        },
        "id": "y5jWF4zU-mVM",
        "outputId": "7cf634ec-df71-4804-8f6f-07672a7f99bd"
      },
      "execution_count": null,
      "outputs": [
        {
          "output_type": "stream",
          "name": "stderr",
          "text": [
            "findfont: Font family ['Arial'] not found. Falling back to DejaVu Sans.\n",
            "findfont: Font family ['Arial'] not found. Falling back to DejaVu Sans.\n",
            "findfont: Font family ['Arial'] not found. Falling back to DejaVu Sans.\n",
            "findfont: Font family ['Arial'] not found. Falling back to DejaVu Sans.\n"
          ]
        },
        {
          "output_type": "display_data",
          "data": {
            "text/plain": [
              "<Figure size 1080x684 with 2 Axes>"
            ],
            "image/png": "[encoded data removed]"
          },
          "metadata": {}
        }
      ]
    },
    {
      "cell_type": "code",
      "source": [
        "feature = 'Age'\n",
        "pdp_isolated = get_pdp_isolated(X_test_preprocessed_df, model, feature) \n",
        "pdp_plot(pdp_isolated, feature_name=feature);"
      ],
      "metadata": {
        "colab": {
          "base_uri": "https://localhost:8080/",
          "height": 578
        },
        "id": "moA6u-CfI4vq",
        "outputId": "e0143b4d-de70-4acc-cec0-6b8a77325ded"
      },
      "execution_count": null,
      "outputs": [
        {
          "output_type": "display_data",
          "data": {
            "text/plain": [
              "<Figure size 1080x684 with 2 Axes>"
            ],
            "image/png": "[encoded data removed]"
          },
          "metadata": {}
        }
      ]
    },
    {
      "cell_type": "code",
      "source": [
        "from pdpbox.pdp import pdp_interact, pdp_interact_plot\n",
        "\n",
        "def get_pdp_interaction(dataset, model, features):\n",
        "    pdp_interaction = pdp_interact(\n",
        "        model=model, \n",
        "        dataset=dataset,\n",
        "        model_features=dataset.columns, \n",
        "        features=features\n",
        "    )\n",
        "\n",
        "    return pdp_interaction"
      ],
      "metadata": {
        "id": "3DsA3wT65HHQ"
      },
      "execution_count": null,
      "outputs": []
    },
    {
      "cell_type": "code",
      "source": [
        "features = ['Institution Type', 'Age']\n",
        "pdp_interaction = get_pdp_interaction(X_test_preprocessed_df, model, features)\n",
        "pdp_interact_plot(pdp_interaction, feature_names=features, plot_type=\"grid\");"
      ],
      "metadata": {
        "colab": {
          "base_uri": "https://localhost:8080/",
          "height": 598
        },
        "id": "VFnyJtco5Jh_",
        "outputId": "38343f08-f616-41f5-e3e8-65acd26adafb"
      },
      "execution_count": null,
      "outputs": [
        {
          "output_type": "stream",
          "name": "stderr",
          "text": [
            "findfont: Font family ['Arial'] not found. Falling back to DejaVu Sans.\n"
          ]
        },
        {
          "output_type": "display_data",
          "data": {
            "text/plain": [
              "<Figure size 540x684 with 3 Axes>"
            ],
            "image/png": "[encoded data removed]"
          },
          "metadata": {}
        }
      ]
    },
    {
      "cell_type": "code",
      "source": [
        "pdp = pdp_interaction.pdp.pivot_table(\n",
        "    values='preds', \n",
        "    columns=features[0], \n",
        "    index=features[1]\n",
        ")[::-1]\n",
        "\n",
        "pdp = pdp.rename(columns=dict(zip(category_codes, category_names)))\n",
        "plt.figure(figsize=(6,5))\n",
        "sns.heatmap(pdp, annot=True, fmt='.2f', cmap='viridis')\n",
        "plt.title('PDP decoded categorical');"
      ],
      "metadata": {
        "colab": {
          "base_uri": "https://localhost:8080/",
          "height": 354
        },
        "id": "1AkxKhn2_Cvi",
        "outputId": "327ea549-1fff-4d67-b9f0-44a08c79155f"
      },
      "execution_count": null,
      "outputs": [
        {
          "output_type": "display_data",
          "data": {
            "text/plain": [
              "<Figure size 432x360 with 2 Axes>"
            ],
            "image/png": "[encoded data removed]"
          },
          "metadata": {}
        }
      ]
    },
    {
      "cell_type": "markdown",
      "source": [
        "# 4. 결론 및 후기\n",
        "\n",
        "\n",
        "---\n",
        "- 교육기관이 공립/사립 여부가 학생의 온라인 교육 적응에 가장 큰 영향\n",
        "- 공립 교육기관 학생들의 온라인 교육 적응을 지원하면 전체적인 온라인 교육 효용성을 높일 수 있을 것이라 기대\n",
        "- 데이터셋의 크기가 작고 데이터 값의 분포가 다양하지 않은 점이 아쉬웠음"
      ],
      "metadata": {
        "id": "dB_ds6xLpkqb"
      }
    }
  ]
}